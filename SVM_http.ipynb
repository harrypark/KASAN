{
  "nbformat": 4,
  "nbformat_minor": 0,
  "metadata": {
    "colab": {
      "name": "SVM_http.ipynb",
      "provenance": [],
      "collapsed_sections": [],
      "toc_visible": true,
      "include_colab_link": true
    },
    "kernelspec": {
      "name": "python3",
      "display_name": "Python 3"
    },
    "language_info": {
      "name": "python"
    },
    "accelerator": "GPU"
  },
  "cells": [
    {
      "cell_type": "markdown",
      "metadata": {
        "id": "view-in-github",
        "colab_type": "text"
      },
      "source": [
        "<a href=\"https://colab.research.google.com/github/harrypark/KASAN/blob/master/SVM_http.ipynb\" target=\"_parent\"><img src=\"https://colab.research.google.com/assets/colab-badge.svg\" alt=\"Open In Colab\"/></a>"
      ]
    },
    {
      "cell_type": "markdown",
      "metadata": {
        "id": "v91GEJjdWfks"
      },
      "source": [
        "**필요파일 Import**\n"
      ]
    },
    {
      "cell_type": "code",
      "metadata": {
        "id": "P0PDkKoEUJxv",
        "colab": {
          "base_uri": "https://localhost:8080/"
        },
        "outputId": "4e07be3d-dda9-4b95-a6ce-c37271c0e85e"
      },
      "source": [
        "import csv\n",
        "import numpy as np\n",
        "import matplotlib.pyplot as plt\n",
        "import pandas as pd\n",
        "from sklearn.ensemble import IsolationForest\n",
        "\n",
        "import ftplib\n",
        "import os\n",
        "import pickle\n",
        "from os import unlink\n",
        "\n",
        "import plotly.express as px\n",
        "\n",
        "from plotly.subplots import make_subplots\n",
        "import plotly.graph_objects as go\n",
        "\n",
        "# Google Drive 에서 파일 가져올때 사용\n",
        "from google.colab import drive\n",
        "drive.mount('/content/drive')\n"
      ],
      "execution_count": 1,
      "outputs": [
        {
          "output_type": "stream",
          "text": [
            "Mounted at /content/drive\n"
          ],
          "name": "stdout"
        }
      ]
    },
    {
      "cell_type": "markdown",
      "metadata": {
        "id": "w3Puo1CRWpih"
      },
      "source": [
        "\n",
        "**Dataframe 생성 및 정보**"
      ]
    },
    {
      "cell_type": "code",
      "metadata": {
        "id": "QD-JbfKQWpVC",
        "colab": {
          "base_uri": "https://localhost:8080/",
          "height": 142
        },
        "outputId": "f07315d3-90fe-4edb-c749-88b55c7d5417"
      },
      "source": [
        "# 위와같이 파일을 읽을때 date 컬럼의 타입을 지정할수 있고\n",
        "# df['srvtime'] = pd.to_datetime(df['srvtime]) 이런형태로 나중에 변경 할수도 있다.\n",
        "csv_file = \"/content/drive/MyDrive/Colab Notebooks/file/http_csv.csv\"\n",
        "dataset = pd.read_csv(csv_file)\n",
        "\n",
        "# abnomal 변환 (abno : 1=> -1) (nor : 0 => 1)\n",
        "change_value = {0:1,1:-1}\n",
        "dataset.replace({'abnomal' :change_value}, inplace=True)\n",
        "\n",
        "\n",
        "#dataset.info()\n",
        "#dataset.head()\n",
        "dataset.groupby('abnomal').count()\n",
        "\n",
        "#       time_stamp\tvalue_1\tvalue_2\tvalue_3\n",
        "# abnomal\t\t\t\t\n",
        "# 0\t      565287\t565287\t565287\t565287\n",
        "# 1\t        2211\t2211\t2211\t2211"
      ],
      "execution_count": 5,
      "outputs": [
        {
          "output_type": "execute_result",
          "data": {
            "text/html": [
              "<div>\n",
              "<style scoped>\n",
              "    .dataframe tbody tr th:only-of-type {\n",
              "        vertical-align: middle;\n",
              "    }\n",
              "\n",
              "    .dataframe tbody tr th {\n",
              "        vertical-align: top;\n",
              "    }\n",
              "\n",
              "    .dataframe thead th {\n",
              "        text-align: right;\n",
              "    }\n",
              "</style>\n",
              "<table border=\"1\" class=\"dataframe\">\n",
              "  <thead>\n",
              "    <tr style=\"text-align: right;\">\n",
              "      <th></th>\n",
              "      <th>time_stamp</th>\n",
              "      <th>value_1</th>\n",
              "      <th>value_2</th>\n",
              "      <th>value_3</th>\n",
              "    </tr>\n",
              "    <tr>\n",
              "      <th>abnomal</th>\n",
              "      <th></th>\n",
              "      <th></th>\n",
              "      <th></th>\n",
              "      <th></th>\n",
              "    </tr>\n",
              "  </thead>\n",
              "  <tbody>\n",
              "    <tr>\n",
              "      <th>-1</th>\n",
              "      <td>2211</td>\n",
              "      <td>2211</td>\n",
              "      <td>2211</td>\n",
              "      <td>2211</td>\n",
              "    </tr>\n",
              "    <tr>\n",
              "      <th>1</th>\n",
              "      <td>565287</td>\n",
              "      <td>565287</td>\n",
              "      <td>565287</td>\n",
              "      <td>565287</td>\n",
              "    </tr>\n",
              "  </tbody>\n",
              "</table>\n",
              "</div>"
            ],
            "text/plain": [
              "         time_stamp  value_1  value_2  value_3\n",
              "abnomal                                       \n",
              "-1             2211     2211     2211     2211\n",
              " 1           565287   565287   565287   565287"
            ]
          },
          "metadata": {
            "tags": []
          },
          "execution_count": 5
        }
      ]
    },
    {
      "cell_type": "markdown",
      "metadata": {
        "id": "P4bSe9NCed7K"
      },
      "source": [
        "## 데이터 분리\n",
        "\n",
        "- 학습   데이터 : 0 ~ 300,000\n",
        "- 테스트 데이터 : 300,001 ~ 567497"
      ]
    },
    {
      "cell_type": "markdown",
      "metadata": {
        "id": "FoYcTCrLKrtd"
      },
      "source": [
        "##학습 데이터"
      ]
    },
    {
      "cell_type": "code",
      "metadata": {
        "id": "LwUFJSeYIjw7",
        "colab": {
          "base_uri": "https://localhost:8080/"
        },
        "outputId": "7bbf42a5-9692-4ba0-ad35-24170b107cdc"
      },
      "source": [
        "# 학습 데이터\n",
        "X_train = dataset.loc[0:299999,:]\n",
        "print('***** abnomal 별 카운트 *****')\n",
        "print(X_train.groupby('abnomal').count())\n",
        "X_train = X_train.drop(['time_stamp','abnomal'],1)\n",
        "print('\\n***** 학습데이터 정보 *****')\n",
        "X_train.info()\n"
      ],
      "execution_count": 6,
      "outputs": [
        {
          "output_type": "stream",
          "text": [
            "***** abnomal 별 카운트 *****\n",
            "         time_stamp  value_1  value_2  value_3\n",
            "abnomal                                       \n",
            "-1                1        1        1        1\n",
            " 1           299999   299999   299999   299999\n",
            "\n",
            "***** 학습데이터 정보 *****\n",
            "<class 'pandas.core.frame.DataFrame'>\n",
            "RangeIndex: 300000 entries, 0 to 299999\n",
            "Data columns (total 3 columns):\n",
            " #   Column   Non-Null Count   Dtype  \n",
            "---  ------   --------------   -----  \n",
            " 0   value_1  300000 non-null  float64\n",
            " 1   value_2  300000 non-null  float64\n",
            " 2   value_3  300000 non-null  float64\n",
            "dtypes: float64(3)\n",
            "memory usage: 6.9 MB\n"
          ],
          "name": "stdout"
        }
      ]
    },
    {
      "cell_type": "markdown",
      "metadata": {
        "id": "bGFQPhpUKnwT"
      },
      "source": [
        "##테스트 데이터"
      ]
    },
    {
      "cell_type": "code",
      "metadata": {
        "colab": {
          "base_uri": "https://localhost:8080/"
        },
        "id": "8ng1ch1qfE8V",
        "outputId": "821096ee-5a6b-4f40-ba56-36bf782bd668"
      },
      "source": [
        "# 테스트 데이터\n",
        "X_test_org = dataset.loc[300000:,:]\n",
        "print('***** abnomal 별 카운트 *****')\n",
        "print(X_test_org.groupby('abnomal').count())\n",
        "\n",
        "X_test = X_test_org.drop(['time_stamp','abnomal'],1)\n",
        "print('\\n***** 테스트데이터 정보 *****')\n",
        "print(X_test.info())\n",
        "\n",
        "#비교데이터 ( numpy 배열 형식으로 변환)\n",
        "Y_test = X_test_org[['abnomal']]\n",
        "Y_test = Y_test.to_numpy()\n",
        "print('\\n***** 비교데이터 정보 *****')\n",
        "Y_test\n",
        "\n"
      ],
      "execution_count": 7,
      "outputs": [
        {
          "output_type": "stream",
          "text": [
            "***** abnomal 별 카운트 *****\n",
            "         time_stamp  value_1  value_2  value_3\n",
            "abnomal                                       \n",
            "-1             2210     2210     2210     2210\n",
            " 1           265288   265288   265288   265288\n",
            "\n",
            "***** 테스트데이터 정보 *****\n",
            "<class 'pandas.core.frame.DataFrame'>\n",
            "RangeIndex: 267498 entries, 300000 to 567497\n",
            "Data columns (total 3 columns):\n",
            " #   Column   Non-Null Count   Dtype  \n",
            "---  ------   --------------   -----  \n",
            " 0   value_1  267498 non-null  float64\n",
            " 1   value_2  267498 non-null  float64\n",
            " 2   value_3  267498 non-null  float64\n",
            "dtypes: float64(3)\n",
            "memory usage: 6.1 MB\n",
            "None\n",
            "\n",
            "***** 비교데이터 정보 *****\n"
          ],
          "name": "stdout"
        },
        {
          "output_type": "execute_result",
          "data": {
            "text/plain": [
              "array([[1],\n",
              "       [1],\n",
              "       [1],\n",
              "       ...,\n",
              "       [1],\n",
              "       [1],\n",
              "       [1]])"
            ]
          },
          "metadata": {
            "tags": []
          },
          "execution_count": 7
        }
      ]
    },
    {
      "cell_type": "markdown",
      "metadata": {
        "id": "fQNAdPzRKe7U"
      },
      "source": [
        "##스케일링"
      ]
    },
    {
      "cell_type": "code",
      "metadata": {
        "colab": {
          "base_uri": "https://localhost:8080/"
        },
        "id": "EBljWyn7qAGx",
        "outputId": "c6fd9c67-d9a6-40bc-fbe4-e1acd8ea9256"
      },
      "source": [
        "from sklearn.preprocessing import StandardScaler\n",
        "sc_X = StandardScaler()\n",
        "X_train = sc_X.fit_transform(X_train)\n",
        "X_train\n",
        "X_test = sc_X.transform(X_test)\n",
        "X_test"
      ],
      "execution_count": 8,
      "outputs": [
        {
          "output_type": "execute_result",
          "data": {
            "text/plain": [
              "array([[-0.04869075, -0.70355981,  0.7001426 ],\n",
              "       [-0.04869075, -0.85758111, -0.68937364],\n",
              "       [-0.04869075, -1.22962389, -1.47464373],\n",
              "       ...,\n",
              "       [-0.04869075, -0.72525902,  0.52115587],\n",
              "       [-0.04869075, -0.70355981, -0.32270906],\n",
              "       [-0.04869075, -0.70355981, -0.41450217]])"
            ]
          },
          "metadata": {
            "tags": []
          },
          "execution_count": 8
        }
      ]
    },
    {
      "cell_type": "markdown",
      "metadata": {
        "id": "iSLp1kUvKjAM"
      },
      "source": [
        "##예측"
      ]
    },
    {
      "cell_type": "code",
      "metadata": {
        "colab": {
          "base_uri": "https://localhost:8080/"
        },
        "id": "V2t5_1iZqHI5",
        "outputId": "de8bc6ec-d362-43e9-afe1-e71834bbe334"
      },
      "source": [
        "from sklearn.svm import OneClassSVM\n",
        "classifier = OneClassSVM(kernel='rbf',nu=0.017,gamma=0.08)\n",
        "classifier.fit(X_train)\n",
        "Y_pred = classifier.predict(X_test)\n",
        "Y_pred"
      ],
      "execution_count": 9,
      "outputs": [
        {
          "output_type": "execute_result",
          "data": {
            "text/plain": [
              "array([1, 1, 1, ..., 1, 1, 1])"
            ]
          },
          "metadata": {
            "tags": []
          },
          "execution_count": 9
        }
      ]
    },
    {
      "cell_type": "markdown",
      "metadata": {
        "id": "LIn6sxQUaljw"
      },
      "source": [
        "##Confusion matrix 1"
      ]
    },
    {
      "cell_type": "code",
      "metadata": {
        "colab": {
          "base_uri": "https://localhost:8080/"
        },
        "id": "7mYi23IDqXQb",
        "outputId": "144b9c38-d040-4988-9c83-c23265c820d2"
      },
      "source": [
        "# True Positivie(TP)\tTrue 인데, True라고 맞춘 경우(잘한 경우)\n",
        "# False Positive(FP)\tFalse 인데, True라고 한 경우(틀렸어요.)\n",
        "#True Negative(TN)\tFalse 인데, False라고 맞춘 경우(잘한 경우)\n",
        "# False Negative(FN)\tTrue 인데 False 라고 한 경우(틀렸어요.)\n",
        "# TP, TN은 잘 한 경우, FP, FN은 잘못한 경우입니다. \n",
        "\n",
        "# confusion matrix\n",
        "# TP는 True positive의 약자로, 실제 True인데, 분류모델에서 예측이 True라고 판단된 경우이다.   --> 맞췄다.\n",
        "# TN는 True negative의 약자로, 실제 False인데, 분류모델에서 예측이 False라고 판단된 경우이다. --> 오답을 오답이라고 맞췄다.\n",
        "# FP는 False positive의 약자로, 실제 False인데, 분류모델에서 예측이 True라고 판단된 경우이다. --> 잘못맞췄다.\n",
        "# FN는 False negative의 약자로, 실제 True인데, 분류모델에서 예측이 False라고 판단된 경우이다. --> 놓쳤다.\n",
        "# TP,TN 이 높을수록, FP,FN 낮을수록 Good\n",
        "# https://neosla.tistory.com/18\n",
        "\n",
        "\n",
        "TP = FN = FP = TN = 0\n",
        "for j in range(len(Y_test)):\n",
        "    if Y_test[j]== 1 and Y_pred[j] == 1:\n",
        "        TP = TP+1\n",
        "    elif Y_test[j]== 1 and Y_pred[j] == -1:\n",
        "        FN = FN+1\n",
        "    elif Y_test[j]== -1 and Y_pred[j] == 1:\n",
        "        FP = FP+1\n",
        "    else:\n",
        "        TN = TN +1\n",
        "print (\"{}     {}\".format(TP, FN))\n",
        "print (\"{}        {}\".format(FP, TN))"
      ],
      "execution_count": 10,
      "outputs": [
        {
          "output_type": "stream",
          "text": [
            "258168     7120\n",
            "0        2210\n"
          ],
          "name": "stdout"
        }
      ]
    },
    {
      "cell_type": "markdown",
      "metadata": {
        "id": "ySUPuj1tauJY"
      },
      "source": [
        "## 평가"
      ]
    },
    {
      "cell_type": "code",
      "metadata": {
        "colab": {
          "base_uri": "https://localhost:8080/"
        },
        "id": "GNAB9G6vqg5E",
        "outputId": "87cbdaf9-f665-4b2b-b8b0-eb8d9975a69b"
      },
      "source": [
        "# https://leedakyeong.tistory.com/entry/%EB%B6%84%EB%A5%98-%EB%AA%A8%EB%8D%B8-%EC%84%B1%EB%8A%A5-%ED%8F%89%EA%B0%80-%EC%A7%80%ED%91%9C-Confusion-Matrix%EB%9E%80-%EC%A0%95%ED%99%95%EB%8F%84Accuracy-%EC%A0%95%EB%B0%80%EB%8F%84Precision-%EC%9E%AC%ED%98%84%EB%8F%84Recall-F1-Score\n",
        "# 정확도 Accuracy : 전체 중 모델이 바르게 분류한 비율\n",
        "Accuracy = (TP+TN)/(TP+FN+FP+TN)\n",
        "print ('Accuracy(정확도):{}'.format(Accuracy))\n",
        "# 정밀도 Precision : 모델이 Positive라 분류한 것 중 실제값이 Positive 인 비율.\n",
        "Precision = TP/(TP+FP)\n",
        "print ('Precision(정밀도):{}'.format(Precision))\n",
        "# 재현도 Recall : 실제값이 Positive인 것 중 모델이 Positive 라 분류한 비율\n",
        "Recall = TP/(TP+FN)\n",
        "print ('Recall(재현도):{}'.format(Recall))\n",
        "# F1 - score : Precision 과 Recall의 조화평균\n",
        "f1 = (2*Precision*Recall)/(Precision+Recall)\n",
        "print ('F1 score:{}'.format(f1))"
      ],
      "execution_count": 11,
      "outputs": [
        {
          "output_type": "stream",
          "text": [
            "Accuracy(정확도):0.9733829785643258\n",
            "Precision(정밀도):1.0\n",
            "Recall(재현도):0.9731612436295648\n",
            "F1 score:0.9863980926763664\n"
          ],
          "name": "stdout"
        }
      ]
    },
    {
      "cell_type": "markdown",
      "metadata": {
        "id": "udsipe89x6T5"
      },
      "source": [
        "## confusion matrix 2 (sklearn.metrics 사용)\n",
        "\n",
        "https://www.kaggle.com/drscarlat/compare-6-unsupervised-anomaly-detection-models/notebook#One-Class-SVM"
      ]
    },
    {
      "cell_type": "code",
      "metadata": {
        "colab": {
          "base_uri": "https://localhost:8080/"
        },
        "id": "VoN3lfBVyQ2C",
        "outputId": "d5c2ea83-f753-4b99-fdee-7dee027b9e0c"
      },
      "source": [
        "from sklearn.metrics import confusion_matrix,accuracy_score,precision_score,recall_score,fbeta_score,f1_score,precision_recall_fscore_support\n",
        "print('***** confusion_matrix *****')\n",
        "print(confusion_matrix(Y_test, Y_pred, labels=[1,-1]))\n",
        "\n",
        "print('\\n***** accuracy_score *****')\n",
        "print(accuracy_score(Y_test, Y_pred))\n",
        "\n",
        "print('\\n***** precision_score *****')\n",
        "print(precision_score(Y_test, Y_pred, labels=[1,-1]))\n",
        "\n",
        "print('\\n***** recall_score *****')\n",
        "print(recall_score(Y_test, Y_pred, labels=[1,-1]))\n",
        "\n",
        "print('\\n***** f1_score *****')\n",
        "print(f1_score(Y_test, Y_pred))\n",
        "\n",
        "print('\\n***** precision_recall_fscore_support *****')\n",
        "precision,recall,fbeta_score, support  = precision_recall_fscore_support(Y_test, Y_pred, average='binary')\n",
        "print(\"precision :\", round((precision), 4))\n",
        "print(\"recall :\", round((recall), 4))\n",
        "print(\"F1 score on Test :\", round((fbeta_score), 4))\n",
        "\n"
      ],
      "execution_count": 12,
      "outputs": [
        {
          "output_type": "stream",
          "text": [
            "***** confusion_matrix *****\n",
            "[[258168   7120]\n",
            " [     0   2210]]\n",
            "\n",
            "***** accuracy_score *****\n",
            "0.9733829785643258\n",
            "\n",
            "***** precision_score *****\n",
            "1.0\n",
            "\n",
            "***** recall_score *****\n",
            "0.9731612436295648\n",
            "\n",
            "***** f1_score *****\n",
            "0.9863980926763664\n",
            "\n",
            "***** precision_recall_fscore_support *****\n",
            "precision : 1.0\n",
            "recall : 0.9732\n",
            "F1 score on Test : 0.9864\n"
          ],
          "name": "stdout"
        }
      ]
    },
    {
      "cell_type": "code",
      "metadata": {
        "colab": {
          "base_uri": "https://localhost:8080/"
        },
        "id": "hVQ2ARRfeNjV",
        "outputId": "6bfa887d-829e-4946-956a-4cc1a07116ec"
      },
      "source": [
        "pip list | grep scikit-learn"
      ],
      "execution_count": 13,
      "outputs": [
        {
          "output_type": "stream",
          "text": [
            "scikit-learn                  0.22.2.post1  \n"
          ],
          "name": "stdout"
        }
      ]
    },
    {
      "cell_type": "code",
      "metadata": {
        "id": "esCkp0nRx41J",
        "colab": {
          "base_uri": "https://localhost:8080/",
          "height": 294
        },
        "outputId": "92e5e73e-c105-4459-cebd-0354a90f5f22"
      },
      "source": [
        "# Optimize nu hyper paramter for best F1\n",
        "\n",
        "minRE = 0.017\n",
        "maxRE = 0.022\n",
        "    \n",
        "EpsF1 = []\n",
        "\n",
        "for TryRE in np.arange(minRE, maxRE, 0.001):\n",
        "    classifier = OneClassSVM(nu = TryRE, kernel='rbf', gamma=0.08)\n",
        "    classifier.fit(X_train)\n",
        "    Y_pred = classifier.predict(X_test)\n",
        "        \n",
        "    precision,recall,fbeta_score, support  = precision_recall_fscore_support(Y_test, Y_pred, average='binary')\n",
        "    \n",
        "    print(\"F1 score on test\", round(fbeta_score,4), \" with nu \", TryRE)\n",
        "    EpsF1.append([TryRE, round(fbeta_score,4)])\n",
        "    \n",
        "EpsF1df = pd.DataFrame(EpsF1, columns = ['nu', 'F1'])\n",
        "EpsF1df.head()"
      ],
      "execution_count": 14,
      "outputs": [
        {
          "output_type": "stream",
          "text": [
            "F1 score on test 0.9864  with nu  0.017\n",
            "F1 score on test 0.9858  with nu  0.018000000000000002\n",
            "F1 score on test 0.9852  with nu  0.019000000000000003\n",
            "F1 score on test 0.9847  with nu  0.020000000000000004\n",
            "F1 score on test 0.984  with nu  0.021000000000000005\n"
          ],
          "name": "stdout"
        },
        {
          "output_type": "execute_result",
          "data": {
            "text/html": [
              "<div>\n",
              "<style scoped>\n",
              "    .dataframe tbody tr th:only-of-type {\n",
              "        vertical-align: middle;\n",
              "    }\n",
              "\n",
              "    .dataframe tbody tr th {\n",
              "        vertical-align: top;\n",
              "    }\n",
              "\n",
              "    .dataframe thead th {\n",
              "        text-align: right;\n",
              "    }\n",
              "</style>\n",
              "<table border=\"1\" class=\"dataframe\">\n",
              "  <thead>\n",
              "    <tr style=\"text-align: right;\">\n",
              "      <th></th>\n",
              "      <th>nu</th>\n",
              "      <th>F1</th>\n",
              "    </tr>\n",
              "  </thead>\n",
              "  <tbody>\n",
              "    <tr>\n",
              "      <th>0</th>\n",
              "      <td>0.017</td>\n",
              "      <td>0.9864</td>\n",
              "    </tr>\n",
              "    <tr>\n",
              "      <th>1</th>\n",
              "      <td>0.018</td>\n",
              "      <td>0.9858</td>\n",
              "    </tr>\n",
              "    <tr>\n",
              "      <th>2</th>\n",
              "      <td>0.019</td>\n",
              "      <td>0.9852</td>\n",
              "    </tr>\n",
              "    <tr>\n",
              "      <th>3</th>\n",
              "      <td>0.020</td>\n",
              "      <td>0.9847</td>\n",
              "    </tr>\n",
              "    <tr>\n",
              "      <th>4</th>\n",
              "      <td>0.021</td>\n",
              "      <td>0.9840</td>\n",
              "    </tr>\n",
              "  </tbody>\n",
              "</table>\n",
              "</div>"
            ],
            "text/plain": [
              "      nu      F1\n",
              "0  0.017  0.9864\n",
              "1  0.018  0.9858\n",
              "2  0.019  0.9852\n",
              "3  0.020  0.9847\n",
              "4  0.021  0.9840"
            ]
          },
          "metadata": {
            "tags": []
          },
          "execution_count": 14
        }
      ]
    },
    {
      "cell_type": "code",
      "metadata": {
        "colab": {
          "base_uri": "https://localhost:8080/",
          "height": 295
        },
        "id": "xnp7s4b4orTh",
        "outputId": "18dce346-6e43-4617-f644-feba1265cbcd"
      },
      "source": [
        "EpsF1df.plot.line(\"nu\",\"F1\")\n",
        "plt.xlim(minRE, maxRE)\n",
        "plt.title(\"F1 vs nu\")\n",
        "plt.show()"
      ],
      "execution_count": 15,
      "outputs": [
        {
          "output_type": "display_data",
          "data": {
            "image/png": "[encoded data removed]",
            "text/plain": [
              "<Figure size 432x288 with 1 Axes>"
            ]
          },
          "metadata": {
            "tags": [],
            "needs_background": "light"
          }
        }
      ]
    },
    {
      "cell_type": "code",
      "metadata": {
        "colab": {
          "base_uri": "https://localhost:8080/"
        },
        "id": "aJrxVEHu4tPl",
        "outputId": "e3f0fec4-f9a0-4550-8813-2f53d69278de"
      },
      "source": [
        "from sklearn.metrics import classification_report\n",
        "\n",
        "\n",
        "print(classification_report(Y_test, Y_pred))"
      ],
      "execution_count": 16,
      "outputs": [
        {
          "output_type": "stream",
          "text": [
            "              precision    recall  f1-score   support\n",
            "\n",
            "          -1       0.21      1.00      0.35      2210\n",
            "           1       1.00      0.97      0.98    265288\n",
            "\n",
            "    accuracy                           0.97    267498\n",
            "   macro avg       0.60      0.98      0.66    267498\n",
            "weighted avg       0.99      0.97      0.98    267498\n",
            "\n"
          ],
          "name": "stdout"
        }
      ]
    },
    {
      "cell_type": "code",
      "metadata": {
        "id": "krlNbHN152hO"
      },
      "source": [
        ""
      ],
      "execution_count": null,
      "outputs": []
    }
  ]
}